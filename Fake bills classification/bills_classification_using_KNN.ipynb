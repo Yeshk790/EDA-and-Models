{
 "cells": [
  {
   "cell_type": "markdown",
   "metadata": {},
   "source": [
    "## Data importing and preprocessing"
   ]
  },
  {
   "cell_type": "code",
   "execution_count": 1,
   "metadata": {
    "execution": {
     "iopub.execute_input": "2023-07-14T16:50:53.685794Z",
     "iopub.status.busy": "2023-07-14T16:50:53.685379Z",
     "iopub.status.idle": "2023-07-14T16:50:53.692721Z",
     "shell.execute_reply": "2023-07-14T16:50:53.691409Z",
     "shell.execute_reply.started": "2023-07-14T16:50:53.685761Z"
    }
   },
   "outputs": [],
   "source": [
    "#Importing all of the needed packages and functions\n",
    "import pandas as pd\n",
    "import seaborn as sns\n",
    "import matplotlib.pyplot as plt\n",
    "from sklearn.model_selection import train_test_split\n",
    "import numpy as np\n",
    "from sklearn.neighbors import KNeighborsClassifier\n",
    "from sklearn.metrics import classification_report\n",
    "from sklearn.metrics import confusion_matrix\n",
    "from sklearn.metrics import accuracy_score\n",
    "from sklearn.metrics import mean_squared_error\n"
   ]
  },
  {
   "cell_type": "code",
   "execution_count": 2,
   "metadata": {
    "execution": {
     "iopub.execute_input": "2023-07-14T16:50:53.694864Z",
     "iopub.status.busy": "2023-07-14T16:50:53.694454Z",
     "iopub.status.idle": "2023-07-14T16:50:53.726275Z",
     "shell.execute_reply": "2023-07-14T16:50:53.725215Z",
     "shell.execute_reply.started": "2023-07-14T16:50:53.69483Z"
    }
   },
   "outputs": [],
   "source": [
    "#import the dataset into a variable using pandas\n",
    "bills = pd.read_csv(\"fake_bills.csv\")"
   ]
  },
  {
   "cell_type": "markdown",
   "metadata": {},
   "source": [
    "# **Data cleaning**"
   ]
  },
  {
   "cell_type": "code",
   "execution_count": 3,
   "metadata": {
    "execution": {
     "iopub.execute_input": "2023-07-14T16:50:53.728451Z",
     "iopub.status.busy": "2023-07-14T16:50:53.727437Z",
     "iopub.status.idle": "2023-07-14T16:50:53.743738Z",
     "shell.execute_reply": "2023-07-14T16:50:53.742794Z",
     "shell.execute_reply.started": "2023-07-14T16:50:53.728415Z"
    }
   },
   "outputs": [
    {
     "name": "stdout",
     "output_type": "stream",
     "text": [
      "<class 'pandas.core.frame.DataFrame'>\n",
      "RangeIndex: 1500 entries, 0 to 1499\n",
      "Data columns (total 1 columns):\n",
      " #   Column                                                                    Non-Null Count  Dtype \n",
      "---  ------                                                                    --------------  ----- \n",
      " 0   is_genuine;diagonal;height_left;height_right;margin_low;margin_up;length  1500 non-null   object\n",
      "dtypes: object(1)\n",
      "memory usage: 11.8+ KB\n"
     ]
    }
   ],
   "source": [
    "#check for null values and we see we have a problem with our dataframe so we investigate further\n",
    "bills.info()"
   ]
  },
  {
   "cell_type": "code",
   "execution_count": 4,
   "metadata": {
    "execution": {
     "iopub.execute_input": "2023-07-14T16:50:53.746665Z",
     "iopub.status.busy": "2023-07-14T16:50:53.745797Z",
     "iopub.status.idle": "2023-07-14T16:50:53.764607Z",
     "shell.execute_reply": "2023-07-14T16:50:53.763494Z",
     "shell.execute_reply.started": "2023-07-14T16:50:53.746616Z"
    }
   },
   "outputs": [
    {
     "data": {
      "text/plain": [
       "(1500, 1)"
      ]
     },
     "execution_count": 4,
     "metadata": {},
     "output_type": "execute_result"
    }
   ],
   "source": [
    "#something seems to be wrong so we check the shape of the dataframe\n",
    "bills.shape"
   ]
  },
  {
   "cell_type": "code",
   "execution_count": 5,
   "metadata": {
    "execution": {
     "iopub.execute_input": "2023-07-14T16:50:53.766567Z",
     "iopub.status.busy": "2023-07-14T16:50:53.766138Z",
     "iopub.status.idle": "2023-07-14T16:50:53.784314Z",
     "shell.execute_reply": "2023-07-14T16:50:53.782916Z",
     "shell.execute_reply.started": "2023-07-14T16:50:53.766494Z"
    }
   },
   "outputs": [
    {
     "data": {
      "text/html": [
       "<div>\n",
       "<style scoped>\n",
       "    .dataframe tbody tr th:only-of-type {\n",
       "        vertical-align: middle;\n",
       "    }\n",
       "\n",
       "    .dataframe tbody tr th {\n",
       "        vertical-align: top;\n",
       "    }\n",
       "\n",
       "    .dataframe thead th {\n",
       "        text-align: right;\n",
       "    }\n",
       "</style>\n",
       "<table border=\"1\" class=\"dataframe\">\n",
       "  <thead>\n",
       "    <tr style=\"text-align: right;\">\n",
       "      <th></th>\n",
       "      <th>is_genuine;diagonal;height_left;height_right;margin_low;margin_up;length</th>\n",
       "    </tr>\n",
       "  </thead>\n",
       "  <tbody>\n",
       "    <tr>\n",
       "      <th>0</th>\n",
       "      <td>True;171.81;104.86;104.95;4.52;2.89;112.83</td>\n",
       "    </tr>\n",
       "    <tr>\n",
       "      <th>1</th>\n",
       "      <td>True;171.46;103.36;103.66;3.77;2.99;113.09</td>\n",
       "    </tr>\n",
       "    <tr>\n",
       "      <th>2</th>\n",
       "      <td>True;172.69;104.48;103.5;4.4;2.94;113.16</td>\n",
       "    </tr>\n",
       "    <tr>\n",
       "      <th>3</th>\n",
       "      <td>True;171.36;103.91;103.94;3.62;3.01;113.51</td>\n",
       "    </tr>\n",
       "    <tr>\n",
       "      <th>4</th>\n",
       "      <td>True;171.73;104.28;103.46;4.04;3.48;112.54</td>\n",
       "    </tr>\n",
       "  </tbody>\n",
       "</table>\n",
       "</div>"
      ],
      "text/plain": [
       "  is_genuine;diagonal;height_left;height_right;margin_low;margin_up;length\n",
       "0         True;171.81;104.86;104.95;4.52;2.89;112.83                      \n",
       "1         True;171.46;103.36;103.66;3.77;2.99;113.09                      \n",
       "2           True;172.69;104.48;103.5;4.4;2.94;113.16                      \n",
       "3         True;171.36;103.91;103.94;3.62;3.01;113.51                      \n",
       "4         True;171.73;104.28;103.46;4.04;3.48;112.54                      "
      ]
     },
     "execution_count": 5,
     "metadata": {},
     "output_type": "execute_result"
    }
   ],
   "source": [
    "#Checking the dataframe we can see that everything seems to be all close together hold by delimiter \";\"\n",
    "bills.head()"
   ]
  },
  {
   "cell_type": "code",
   "execution_count": 6,
   "metadata": {
    "execution": {
     "iopub.execute_input": "2023-07-14T16:50:53.786807Z",
     "iopub.status.busy": "2023-07-14T16:50:53.785752Z",
     "iopub.status.idle": "2023-07-14T16:50:53.794334Z",
     "shell.execute_reply": "2023-07-14T16:50:53.793208Z",
     "shell.execute_reply.started": "2023-07-14T16:50:53.786769Z"
    }
   },
   "outputs": [
    {
     "data": {
      "text/plain": [
       "array([['True;171.81;104.86;104.95;4.52;2.89;112.83'],\n",
       "       ['True;171.46;103.36;103.66;3.77;2.99;113.09'],\n",
       "       ['True;172.69;104.48;103.5;4.4;2.94;113.16'],\n",
       "       ...,\n",
       "       ['False;171.8;104.01;104.12;5.51;3.36;111.95'],\n",
       "       ['False;172.06;104.28;104.06;5.17;3.46;112.25'],\n",
       "       ['False;171.47;104.15;103.82;4.63;3.37;112.07']], dtype=object)"
      ]
     },
     "execution_count": 6,
     "metadata": {},
     "output_type": "execute_result"
    }
   ],
   "source": [
    "#We now check the values of each array vector and such\n",
    "bills.values"
   ]
  },
  {
   "cell_type": "code",
   "execution_count": 7,
   "metadata": {
    "execution": {
     "iopub.execute_input": "2023-07-14T16:50:53.796869Z",
     "iopub.status.busy": "2023-07-14T16:50:53.795715Z",
     "iopub.status.idle": "2023-07-14T16:50:54.204282Z",
     "shell.execute_reply": "2023-07-14T16:50:54.202852Z",
     "shell.execute_reply.started": "2023-07-14T16:50:53.796788Z"
    }
   },
   "outputs": [],
   "source": [
    "#We first fix the rows of the dataframe and fill them in while also splitting them for further indexing\n",
    "rows = []\n",
    "for i in range(bills.shape[0]):\n",
    "    rows.append(bills.loc[i].str.split(\";\").values)"
   ]
  },
  {
   "cell_type": "code",
   "execution_count": 8,
   "metadata": {
    "execution": {
     "iopub.execute_input": "2023-07-14T16:50:54.206919Z",
     "iopub.status.busy": "2023-07-14T16:50:54.206572Z",
     "iopub.status.idle": "2023-07-14T16:50:54.214049Z",
     "shell.execute_reply": "2023-07-14T16:50:54.212797Z",
     "shell.execute_reply.started": "2023-07-14T16:50:54.206889Z"
    }
   },
   "outputs": [
    {
     "data": {
      "text/plain": [
       "1500"
      ]
     },
     "execution_count": 8,
     "metadata": {},
     "output_type": "execute_result"
    }
   ],
   "source": [
    "#We will now see the amount of rows we have made\n",
    "len(rows)"
   ]
  },
  {
   "cell_type": "code",
   "execution_count": 9,
   "metadata": {
    "execution": {
     "iopub.execute_input": "2023-07-14T16:50:54.218894Z",
     "iopub.status.busy": "2023-07-14T16:50:54.218039Z",
     "iopub.status.idle": "2023-07-14T16:50:54.238204Z",
     "shell.execute_reply": "2023-07-14T16:50:54.236756Z",
     "shell.execute_reply.started": "2023-07-14T16:50:54.218853Z"
    }
   },
   "outputs": [
    {
     "data": {
      "text/plain": [
       "Index([['is_genuine', 'diagonal', 'height_left', 'height_right', 'margin_low', 'margin_up', 'length']], dtype='object')"
      ]
     },
     "execution_count": 9,
     "metadata": {},
     "output_type": "execute_result"
    }
   ],
   "source": [
    "#Now we have to fix the columns to get their names to later insert into a dataframe\n",
    "cols = bills.columns.str.split(';')\n",
    "cols"
   ]
  },
  {
   "cell_type": "code",
   "execution_count": 10,
   "metadata": {
    "execution": {
     "iopub.execute_input": "2023-07-14T16:50:54.241224Z",
     "iopub.status.busy": "2023-07-14T16:50:54.240724Z",
     "iopub.status.idle": "2023-07-14T16:50:54.251853Z",
     "shell.execute_reply": "2023-07-14T16:50:54.250476Z",
     "shell.execute_reply.started": "2023-07-14T16:50:54.24117Z"
    }
   },
   "outputs": [],
   "source": [
    "#Now I will create a function that abstracts the column info of each column and then fils them in\n",
    "def col_info(n):\n",
    "    info = []\n",
    "    for i in range(len(rows)):\n",
    "        info.append(rows[i][0][n])\n",
    "        \n",
    "    return info"
   ]
  },
  {
   "cell_type": "code",
   "execution_count": 11,
   "metadata": {
    "execution": {
     "iopub.execute_input": "2023-07-14T16:50:54.25437Z",
     "iopub.status.busy": "2023-07-14T16:50:54.253836Z",
     "iopub.status.idle": "2023-07-14T16:50:54.273753Z",
     "shell.execute_reply": "2023-07-14T16:50:54.272403Z",
     "shell.execute_reply.started": "2023-07-14T16:50:54.25428Z"
    }
   },
   "outputs": [],
   "source": [
    "#we now extract the information of the columns to later use to input into a dataframe\n",
    "col_1 = col_info(0)\n",
    "col_2 = col_info(1)\n",
    "col_3 = col_info(2)\n",
    "col_4 = col_info(3)\n",
    "col_5 = col_info(4)\n",
    "col_6 = col_info(5)\n",
    "col_7 = col_info(6)"
   ]
  },
  {
   "cell_type": "code",
   "execution_count": 12,
   "metadata": {
    "execution": {
     "iopub.execute_input": "2023-07-14T16:50:54.276385Z",
     "iopub.status.busy": "2023-07-14T16:50:54.275911Z",
     "iopub.status.idle": "2023-07-14T16:50:54.290602Z",
     "shell.execute_reply": "2023-07-14T16:50:54.288984Z",
     "shell.execute_reply.started": "2023-07-14T16:50:54.276334Z"
    }
   },
   "outputs": [],
   "source": [
    "#We now create a dataframe that is aligned with the information extracted from the csv file\n",
    "bills = pd.DataFrame({ \"is_genuine\":col_1,\n",
    "              \"diagonal\": col_2,\n",
    "              \"height_left\":col_3,\n",
    "              \"height_right\": col_4,\n",
    "              \"margin_low\":col_5,\n",
    "              \"margin_up\":col_6,\n",
    "              \"length\":col_7\n",
    "})"
   ]
  },
  {
   "cell_type": "code",
   "execution_count": 13,
   "metadata": {
    "execution": {
     "iopub.execute_input": "2023-07-14T16:50:54.293284Z",
     "iopub.status.busy": "2023-07-14T16:50:54.292805Z",
     "iopub.status.idle": "2023-07-14T16:50:54.315099Z",
     "shell.execute_reply": "2023-07-14T16:50:54.313995Z",
     "shell.execute_reply.started": "2023-07-14T16:50:54.293239Z"
    }
   },
   "outputs": [
    {
     "name": "stdout",
     "output_type": "stream",
     "text": [
      "<class 'pandas.core.frame.DataFrame'>\n",
      "RangeIndex: 1500 entries, 0 to 1499\n",
      "Data columns (total 7 columns):\n",
      " #   Column        Non-Null Count  Dtype \n",
      "---  ------        --------------  ----- \n",
      " 0   is_genuine    1500 non-null   object\n",
      " 1   diagonal      1500 non-null   object\n",
      " 2   height_left   1500 non-null   object\n",
      " 3   height_right  1500 non-null   object\n",
      " 4   margin_low    1500 non-null   object\n",
      " 5   margin_up     1500 non-null   object\n",
      " 6   length        1500 non-null   object\n",
      "dtypes: object(7)\n",
      "memory usage: 82.2+ KB\n"
     ]
    }
   ],
   "source": [
    "#We will change the datatypes later\n",
    "bills.info()"
   ]
  },
  {
   "cell_type": "code",
   "execution_count": 14,
   "metadata": {
    "execution": {
     "iopub.execute_input": "2023-07-14T16:50:54.316899Z",
     "iopub.status.busy": "2023-07-14T16:50:54.316462Z",
     "iopub.status.idle": "2023-07-14T16:50:54.339433Z",
     "shell.execute_reply": "2023-07-14T16:50:54.338241Z",
     "shell.execute_reply.started": "2023-07-14T16:50:54.31686Z"
    }
   },
   "outputs": [
    {
     "data": {
      "text/html": [
       "<div>\n",
       "<style scoped>\n",
       "    .dataframe tbody tr th:only-of-type {\n",
       "        vertical-align: middle;\n",
       "    }\n",
       "\n",
       "    .dataframe tbody tr th {\n",
       "        vertical-align: top;\n",
       "    }\n",
       "\n",
       "    .dataframe thead th {\n",
       "        text-align: right;\n",
       "    }\n",
       "</style>\n",
       "<table border=\"1\" class=\"dataframe\">\n",
       "  <thead>\n",
       "    <tr style=\"text-align: right;\">\n",
       "      <th></th>\n",
       "      <th>is_genuine</th>\n",
       "      <th>diagonal</th>\n",
       "      <th>height_left</th>\n",
       "      <th>height_right</th>\n",
       "      <th>margin_low</th>\n",
       "      <th>margin_up</th>\n",
       "      <th>length</th>\n",
       "    </tr>\n",
       "  </thead>\n",
       "  <tbody>\n",
       "    <tr>\n",
       "      <th>0</th>\n",
       "      <td>True</td>\n",
       "      <td>171.81</td>\n",
       "      <td>104.86</td>\n",
       "      <td>104.95</td>\n",
       "      <td>4.52</td>\n",
       "      <td>2.89</td>\n",
       "      <td>112.83</td>\n",
       "    </tr>\n",
       "    <tr>\n",
       "      <th>1</th>\n",
       "      <td>True</td>\n",
       "      <td>171.46</td>\n",
       "      <td>103.36</td>\n",
       "      <td>103.66</td>\n",
       "      <td>3.77</td>\n",
       "      <td>2.99</td>\n",
       "      <td>113.09</td>\n",
       "    </tr>\n",
       "    <tr>\n",
       "      <th>2</th>\n",
       "      <td>True</td>\n",
       "      <td>172.69</td>\n",
       "      <td>104.48</td>\n",
       "      <td>103.5</td>\n",
       "      <td>4.4</td>\n",
       "      <td>2.94</td>\n",
       "      <td>113.16</td>\n",
       "    </tr>\n",
       "    <tr>\n",
       "      <th>3</th>\n",
       "      <td>True</td>\n",
       "      <td>171.36</td>\n",
       "      <td>103.91</td>\n",
       "      <td>103.94</td>\n",
       "      <td>3.62</td>\n",
       "      <td>3.01</td>\n",
       "      <td>113.51</td>\n",
       "    </tr>\n",
       "    <tr>\n",
       "      <th>4</th>\n",
       "      <td>True</td>\n",
       "      <td>171.73</td>\n",
       "      <td>104.28</td>\n",
       "      <td>103.46</td>\n",
       "      <td>4.04</td>\n",
       "      <td>3.48</td>\n",
       "      <td>112.54</td>\n",
       "    </tr>\n",
       "  </tbody>\n",
       "</table>\n",
       "</div>"
      ],
      "text/plain": [
       "  is_genuine diagonal height_left height_right margin_low margin_up  length\n",
       "0       True   171.81      104.86       104.95       4.52      2.89  112.83\n",
       "1       True   171.46      103.36       103.66       3.77      2.99  113.09\n",
       "2       True   172.69      104.48        103.5        4.4      2.94  113.16\n",
       "3       True   171.36      103.91       103.94       3.62      3.01  113.51\n",
       "4       True   171.73      104.28       103.46       4.04      3.48  112.54"
      ]
     },
     "execution_count": 14,
     "metadata": {},
     "output_type": "execute_result"
    }
   ],
   "source": [
    "#get the overall feel of the dataframe\n",
    "bills.head()"
   ]
  },
  {
   "cell_type": "code",
   "execution_count": 15,
   "metadata": {
    "execution": {
     "iopub.execute_input": "2023-07-14T16:50:54.342069Z",
     "iopub.status.busy": "2023-07-14T16:50:54.34111Z",
     "iopub.status.idle": "2023-07-14T16:50:54.378554Z",
     "shell.execute_reply": "2023-07-14T16:50:54.377184Z",
     "shell.execute_reply.started": "2023-07-14T16:50:54.342032Z"
    }
   },
   "outputs": [],
   "source": [
    "#Transforming the is_genuine column into a dummy variable since computers better operate with numbers and it will be easier for the model\n",
    "bills[\"is_genuine\"] = bills.apply(lambda x: 1 if x.is_genuine == \"True\" else 0, axis= 1)"
   ]
  },
  {
   "cell_type": "code",
   "execution_count": 16,
   "metadata": {
    "execution": {
     "iopub.execute_input": "2023-07-14T16:50:54.380788Z",
     "iopub.status.busy": "2023-07-14T16:50:54.380274Z",
     "iopub.status.idle": "2023-07-14T16:50:54.404583Z",
     "shell.execute_reply": "2023-07-14T16:50:54.403266Z",
     "shell.execute_reply.started": "2023-07-14T16:50:54.380743Z"
    }
   },
   "outputs": [],
   "source": [
    "#here we change the datatypes\n",
    "#We now have to update the columns to numeric or their correct datatype\n",
    "bills[\"diagonal\"] = pd.to_numeric(bills[\"diagonal\"])\n",
    "bills[\"height_left\"] = pd.to_numeric(bills[\"height_left\"])\n",
    "bills[\"height_right\"] = pd.to_numeric(bills[\"height_right\"])\n",
    "bills[\"margin_low\"] = pd.to_numeric(bills[\"margin_low\"])\n",
    "bills[\"margin_up\"] = pd.to_numeric(bills[\"margin_up\"])\n",
    "bills[\"length\"] = pd.to_numeric(bills[\"length\"])\n"
   ]
  },
  {
   "cell_type": "code",
   "execution_count": 17,
   "metadata": {
    "execution": {
     "iopub.execute_input": "2023-07-14T16:50:54.40714Z",
     "iopub.status.busy": "2023-07-14T16:50:54.406338Z",
     "iopub.status.idle": "2023-07-14T16:50:54.42514Z",
     "shell.execute_reply": "2023-07-14T16:50:54.42366Z",
     "shell.execute_reply.started": "2023-07-14T16:50:54.407094Z"
    }
   },
   "outputs": [
    {
     "name": "stdout",
     "output_type": "stream",
     "text": [
      "<class 'pandas.core.frame.DataFrame'>\n",
      "RangeIndex: 1500 entries, 0 to 1499\n",
      "Data columns (total 7 columns):\n",
      " #   Column        Non-Null Count  Dtype  \n",
      "---  ------        --------------  -----  \n",
      " 0   is_genuine    1500 non-null   int64  \n",
      " 1   diagonal      1500 non-null   float64\n",
      " 2   height_left   1500 non-null   float64\n",
      " 3   height_right  1500 non-null   float64\n",
      " 4   margin_low    1463 non-null   float64\n",
      " 5   margin_up     1500 non-null   float64\n",
      " 6   length        1500 non-null   float64\n",
      "dtypes: float64(6), int64(1)\n",
      "memory usage: 82.2 KB\n"
     ]
    }
   ],
   "source": [
    "#Here we can see that margin_low row does not have the same amounf of non null values implying that there is some sort of missing values in the column\n",
    "bills.info()"
   ]
  },
  {
   "cell_type": "code",
   "execution_count": 18,
   "metadata": {
    "execution": {
     "iopub.execute_input": "2023-07-14T16:50:54.427467Z",
     "iopub.status.busy": "2023-07-14T16:50:54.427025Z",
     "iopub.status.idle": "2023-07-14T16:50:54.446995Z",
     "shell.execute_reply": "2023-07-14T16:50:54.445554Z",
     "shell.execute_reply.started": "2023-07-14T16:50:54.427425Z"
    }
   },
   "outputs": [
    {
     "data": {
      "text/plain": [
       "is_genuine       0\n",
       "diagonal         0\n",
       "height_left      0\n",
       "height_right     0\n",
       "margin_low      37\n",
       "margin_up        0\n",
       "length           0\n",
       "dtype: int64"
      ]
     },
     "execution_count": 18,
     "metadata": {},
     "output_type": "execute_result"
    }
   ],
   "source": [
    "#Here we can see that we have 37 missing values in the dataset\n",
    "bills.isnull().sum()\n"
   ]
  },
  {
   "cell_type": "code",
   "execution_count": 19,
   "metadata": {
    "execution": {
     "iopub.execute_input": "2023-07-14T16:50:54.450418Z",
     "iopub.status.busy": "2023-07-14T16:50:54.449474Z",
     "iopub.status.idle": "2023-07-14T16:50:54.461433Z",
     "shell.execute_reply": "2023-07-14T16:50:54.460441Z",
     "shell.execute_reply.started": "2023-07-14T16:50:54.450372Z"
    }
   },
   "outputs": [],
   "source": [
    "#We will now fill in the missing values with the mean amount of margin_low in the data instead of deleting them \n",
    "bills['margin_low'].fillna(bills['margin_low'].mean(),inplace = True)"
   ]
  },
  {
   "cell_type": "code",
   "execution_count": 20,
   "metadata": {
    "execution": {
     "iopub.execute_input": "2023-07-14T16:50:54.464302Z",
     "iopub.status.busy": "2023-07-14T16:50:54.463438Z",
     "iopub.status.idle": "2023-07-14T16:50:54.493845Z",
     "shell.execute_reply": "2023-07-14T16:50:54.492274Z",
     "shell.execute_reply.started": "2023-07-14T16:50:54.464249Z"
    }
   },
   "outputs": [
    {
     "data": {
      "text/plain": [
       "is_genuine      0\n",
       "diagonal        0\n",
       "height_left     0\n",
       "height_right    0\n",
       "margin_low      0\n",
       "margin_up       0\n",
       "length          0\n",
       "dtype: int64"
      ]
     },
     "execution_count": 20,
     "metadata": {},
     "output_type": "execute_result"
    }
   ],
   "source": [
    "#we checked if it worked and it did. we got no more null values\n",
    "bills.isnull().sum()"
   ]
  },
  {
   "cell_type": "markdown",
   "metadata": {},
   "source": [
    "# **Splitting the dataset: choosing x and y**"
   ]
  },
  {
   "cell_type": "code",
   "execution_count": 21,
   "metadata": {
    "execution": {
     "iopub.execute_input": "2023-07-14T16:50:54.496104Z",
     "iopub.status.busy": "2023-07-14T16:50:54.495616Z",
     "iopub.status.idle": "2023-07-14T16:50:54.516664Z",
     "shell.execute_reply": "2023-07-14T16:50:54.515245Z",
     "shell.execute_reply.started": "2023-07-14T16:50:54.496066Z"
    }
   },
   "outputs": [],
   "source": [
    "#Now we chose the x and y values in this case we want to set the dependent variable to if the bill is genuiene or not so thats our y\n",
    "#The x will be everything but the the dependent variable since we want to classify based on the bil attributes\n",
    "x = np.array(bills.drop(\"is_genuine\", axis=1))\n",
    "y = np.array(bills[\"is_genuine\"])"
   ]
  },
  {
   "cell_type": "code",
   "execution_count": 22,
   "metadata": {
    "execution": {
     "iopub.execute_input": "2023-07-14T16:50:54.519847Z",
     "iopub.status.busy": "2023-07-14T16:50:54.518619Z",
     "iopub.status.idle": "2023-07-14T16:50:54.533288Z",
     "shell.execute_reply": "2023-07-14T16:50:54.531792Z",
     "shell.execute_reply.started": "2023-07-14T16:50:54.519806Z"
    }
   },
   "outputs": [],
   "source": [
    "#we now train_test and split the model. I chose .30 test_size since it is a better idea to have a bigger train size for KNN since the larger the test set\n",
    "# The slower the model willl run it \n",
    "x_train,x_test,y_train,y_test = train_test_split(x,y, test_size=0.30,random_state=0)"
   ]
  },
  {
   "cell_type": "markdown",
   "metadata": {},
   "source": [
    "# **Building of KNNclassifier model/ fitting**"
   ]
  },
  {
   "cell_type": "code",
   "execution_count": 23,
   "metadata": {
    "execution": {
     "iopub.execute_input": "2023-07-14T16:50:54.536401Z",
     "iopub.status.busy": "2023-07-14T16:50:54.535121Z",
     "iopub.status.idle": "2023-07-14T16:50:54.54795Z",
     "shell.execute_reply": "2023-07-14T16:50:54.546933Z",
     "shell.execute_reply.started": "2023-07-14T16:50:54.536352Z"
    }
   },
   "outputs": [],
   "source": [
    "#We now build the model and chose the amount of neighbors we would like to use. A safe practice would be to use from around 3 to 5 neighbors\n",
    "#Here we also fit the model\n",
    "KNN_model = KNeighborsClassifier(n_neighbors=3).fit(x_train,y_train)"
   ]
  },
  {
   "cell_type": "markdown",
   "metadata": {},
   "source": [
    "Prediction portion of the model and evaluation"
   ]
  },
  {
   "cell_type": "code",
   "execution_count": 24,
   "metadata": {
    "execution": {
     "iopub.execute_input": "2023-07-14T16:50:54.554295Z",
     "iopub.status.busy": "2023-07-14T16:50:54.553861Z",
     "iopub.status.idle": "2023-07-14T16:50:54.614157Z",
     "shell.execute_reply": "2023-07-14T16:50:54.612835Z",
     "shell.execute_reply.started": "2023-07-14T16:50:54.554259Z"
    }
   },
   "outputs": [
    {
     "data": {
      "text/plain": [
       "0.9923809523809524"
      ]
     },
     "execution_count": 24,
     "metadata": {},
     "output_type": "execute_result"
    }
   ],
   "source": [
    "#Here we check the accuracy of the training portion of the data with the model which is pretty goood\n",
    "KNN_model.score(x_train,y_train)"
   ]
  },
  {
   "cell_type": "code",
   "execution_count": 25,
   "metadata": {
    "execution": {
     "iopub.execute_input": "2023-07-14T16:50:54.615926Z",
     "iopub.status.busy": "2023-07-14T16:50:54.615569Z",
     "iopub.status.idle": "2023-07-14T16:50:54.649305Z",
     "shell.execute_reply": "2023-07-14T16:50:54.648032Z",
     "shell.execute_reply.started": "2023-07-14T16:50:54.615895Z"
    }
   },
   "outputs": [
    {
     "data": {
      "text/plain": [
       "0.9933333333333333"
      ]
     },
     "execution_count": 25,
     "metadata": {},
     "output_type": "execute_result"
    }
   ],
   "source": [
    "#Inserting the new values we can see that it does classify well with the addition of new values and it seems to slightly improve\n",
    "KNN_model.score(x_test,y_test)"
   ]
  },
  {
   "cell_type": "markdown",
   "metadata": {},
   "source": [
    "# **Predictions of the model**"
   ]
  },
  {
   "cell_type": "code",
   "execution_count": 26,
   "metadata": {
    "execution": {
     "iopub.execute_input": "2023-07-14T16:50:54.651181Z",
     "iopub.status.busy": "2023-07-14T16:50:54.650821Z",
     "iopub.status.idle": "2023-07-14T16:50:54.703573Z",
     "shell.execute_reply": "2023-07-14T16:50:54.702613Z",
     "shell.execute_reply.started": "2023-07-14T16:50:54.651149Z"
    }
   },
   "outputs": [],
   "source": [
    "#We will now see how the predictions work on the training set\n",
    "y_pred = KNN_model.predict(x_train)"
   ]
  },
  {
   "cell_type": "code",
   "execution_count": 27,
   "metadata": {
    "execution": {
     "iopub.execute_input": "2023-07-14T16:50:54.705538Z",
     "iopub.status.busy": "2023-07-14T16:50:54.704808Z",
     "iopub.status.idle": "2023-07-14T16:50:54.731816Z",
     "shell.execute_reply": "2023-07-14T16:50:54.730474Z",
     "shell.execute_reply.started": "2023-07-14T16:50:54.705478Z"
    }
   },
   "outputs": [],
   "source": [
    "#Now we get the prediciton of new and unseen data\n",
    "y_pred_test = KNN_model.predict(x_test)"
   ]
  },
  {
   "cell_type": "markdown",
   "metadata": {},
   "source": [
    "# **Model evaluation for accuracy**"
   ]
  },
  {
   "cell_type": "code",
   "execution_count": 28,
   "metadata": {
    "execution": {
     "iopub.execute_input": "2023-07-14T16:50:54.734486Z",
     "iopub.status.busy": "2023-07-14T16:50:54.733306Z",
     "iopub.status.idle": "2023-07-14T16:50:54.747911Z",
     "shell.execute_reply": "2023-07-14T16:50:54.746511Z",
     "shell.execute_reply.started": "2023-07-14T16:50:54.734443Z"
    }
   },
   "outputs": [
    {
     "name": "stdout",
     "output_type": "stream",
     "text": [
      "              precision    recall  f1-score   support\n",
      "\n",
      "           0       0.99      0.99      0.99       157\n",
      "           1       1.00      0.99      0.99       293\n",
      "\n",
      "    accuracy                           0.99       450\n",
      "   macro avg       0.99      0.99      0.99       450\n",
      "weighted avg       0.99      0.99      0.99       450\n",
      "\n"
     ]
    }
   ],
   "source": [
    "#we will now generate a classification report. We should use the test portion\n",
    "cr = classification_report(y_test, y_pred_test)\n",
    "print(cr)"
   ]
  },
  {
   "cell_type": "code",
   "execution_count": 29,
   "metadata": {
    "execution": {
     "iopub.execute_input": "2023-07-14T16:50:54.750255Z",
     "iopub.status.busy": "2023-07-14T16:50:54.749372Z",
     "iopub.status.idle": "2023-07-14T16:50:54.763891Z",
     "shell.execute_reply": "2023-07-14T16:50:54.762718Z",
     "shell.execute_reply.started": "2023-07-14T16:50:54.750214Z"
    }
   },
   "outputs": [
    {
     "data": {
      "text/plain": [
       "(450,)"
      ]
     },
     "execution_count": 29,
     "metadata": {},
     "output_type": "execute_result"
    }
   ],
   "source": [
    "#We check the shape of the test portion to see the amount of rows it has \n",
    "y_test.shape"
   ]
  },
  {
   "cell_type": "code",
   "execution_count": 30,
   "metadata": {
    "execution": {
     "iopub.execute_input": "2023-07-14T16:50:54.765824Z",
     "iopub.status.busy": "2023-07-14T16:50:54.765407Z",
     "iopub.status.idle": "2023-07-14T16:50:54.780785Z",
     "shell.execute_reply": "2023-07-14T16:50:54.779403Z",
     "shell.execute_reply.started": "2023-07-14T16:50:54.765788Z"
    }
   },
   "outputs": [
    {
     "data": {
      "text/plain": [
       "array([[156,   1],\n",
       "       [  2, 291]], dtype=int64)"
      ]
     },
     "execution_count": 30,
     "metadata": {},
     "output_type": "execute_result"
    }
   ],
   "source": [
    "#Here we can see that out of the new data presented 156 are true positives, 1 is a false positive, 2 is a false negative and 291 are true negative\n",
    "# Which is overall really really good\n",
    "cm = confusion_matrix(y_test,y_pred_test)\n",
    "cm"
   ]
  },
  {
   "cell_type": "code",
   "execution_count": 31,
   "metadata": {
    "execution": {
     "iopub.execute_input": "2023-07-14T16:50:54.783272Z",
     "iopub.status.busy": "2023-07-14T16:50:54.782861Z",
     "iopub.status.idle": "2023-07-14T16:50:55.120331Z",
     "shell.execute_reply": "2023-07-14T16:50:55.118969Z",
     "shell.execute_reply.started": "2023-07-14T16:50:54.783238Z"
    }
   },
   "outputs": [
    {
     "data": {
      "image/png": "[encoded data removed]",
      "text/plain": [
       "<Figure size 640x480 with 2 Axes>"
      ]
     },
     "metadata": {},
     "output_type": "display_data"
    }
   ],
   "source": [
    "#Plotting the confusion matrix\n",
    "sns.heatmap(cm,\n",
    "            annot=True,\n",
    "            fmt='g',\n",
    "            xticklabels=['R_bill','F_bill'],\n",
    "            yticklabels=['R_bill','F_bill'])\n",
    "plt.ylabel('Prediction',fontsize=13)\n",
    "plt.xlabel('Actual',fontsize=13)\n",
    "plt.title('Confusion Matrix',fontsize=17)\n",
    "plt.show()"
   ]
  },
  {
   "cell_type": "code",
   "execution_count": 32,
   "metadata": {
    "execution": {
     "iopub.execute_input": "2023-07-14T16:50:55.121963Z",
     "iopub.status.busy": "2023-07-14T16:50:55.121637Z",
     "iopub.status.idle": "2023-07-14T16:50:55.129261Z",
     "shell.execute_reply": "2023-07-14T16:50:55.127536Z",
     "shell.execute_reply.started": "2023-07-14T16:50:55.121935Z"
    }
   },
   "outputs": [],
   "source": [
    "#Here is another way to check for accuracy besides using the classification report\n",
    "accuracy_KNN = accuracy_score(y_test, y_pred_test)"
   ]
  },
  {
   "cell_type": "code",
   "execution_count": 33,
   "metadata": {
    "execution": {
     "iopub.execute_input": "2023-07-14T16:50:55.131363Z",
     "iopub.status.busy": "2023-07-14T16:50:55.130998Z",
     "iopub.status.idle": "2023-07-14T16:50:55.151535Z",
     "shell.execute_reply": "2023-07-14T16:50:55.150268Z",
     "shell.execute_reply.started": "2023-07-14T16:50:55.13133Z"
    }
   },
   "outputs": [
    {
     "data": {
      "text/plain": [
       "0.9933333333333333"
      ]
     },
     "execution_count": 33,
     "metadata": {},
     "output_type": "execute_result"
    }
   ],
   "source": [
    "#we now look at the accuracy of the KNN model unseen data \n",
    "accuracy_KNN"
   ]
  },
  {
   "cell_type": "code",
   "execution_count": 34,
   "metadata": {
    "execution": {
     "iopub.execute_input": "2023-07-14T16:50:55.153317Z",
     "iopub.status.busy": "2023-07-14T16:50:55.152902Z",
     "iopub.status.idle": "2023-07-14T16:50:55.1719Z",
     "shell.execute_reply": "2023-07-14T16:50:55.170722Z",
     "shell.execute_reply.started": "2023-07-14T16:50:55.153284Z"
    }
   },
   "outputs": [
    {
     "data": {
      "text/plain": [
       "0.08728715609439695"
      ]
     },
     "execution_count": 34,
     "metadata": {},
     "output_type": "execute_result"
    }
   ],
   "source": [
    "#Root mean square error of the training portion. There is a difference of 0.09 on average when it comes to the predicted vs actual bills\n",
    "mse_train = mean_squared_error(y_train,y_pred)\n",
    "rmse_train = np.sqrt(mse_train)\n",
    "rmse_train"
   ]
  },
  {
   "cell_type": "code",
   "execution_count": 35,
   "metadata": {
    "execution": {
     "iopub.execute_input": "2023-07-14T16:50:55.173613Z",
     "iopub.status.busy": "2023-07-14T16:50:55.173151Z",
     "iopub.status.idle": "2023-07-14T16:50:55.186056Z",
     "shell.execute_reply": "2023-07-14T16:50:55.184739Z",
     "shell.execute_reply.started": "2023-07-14T16:50:55.173572Z"
    }
   },
   "outputs": [
    {
     "data": {
      "text/plain": [
       "0.08164965809277261"
      ]
     },
     "execution_count": 35,
     "metadata": {},
     "output_type": "execute_result"
    }
   ],
   "source": [
    "#Now we see if we have the same or better resukts for the new unseen test data. Turns out we have a 0.8 which although is a small difference it is better\n",
    "# Than the training portion of unseen data\n",
    "mse_test = mean_squared_error(y_test,y_pred_test)\n",
    "rmse_test = np.sqrt(mse_test)\n",
    "rmse_test"
   ]
  }
 ],
 "metadata": {
  "kaggle": {
   "accelerator": "none",
   "dataSources": [
    {
     "datasetId": 2914044,
     "sourceId": 5021758,
     "sourceType": "datasetVersion"
    }
   ],
   "dockerImageVersionId": 30527,
   "isGpuEnabled": false,
   "isInternetEnabled": false,
   "language": "python",
   "sourceType": "notebook"
  },
  "kernelspec": {
   "display_name": "Python 3 (ipykernel)",
   "language": "python",
   "name": "python3"
  },
  "language_info": {
   "codemirror_mode": {
    "name": "ipython",
    "version": 3
   },
   "file_extension": ".py",
   "mimetype": "text/x-python",
   "name": "python",
   "nbconvert_exporter": "python",
   "pygments_lexer": "ipython3",
   "version": "3.11.5"
  }
 },
 "nbformat": 4,
 "nbformat_minor": 4
}
